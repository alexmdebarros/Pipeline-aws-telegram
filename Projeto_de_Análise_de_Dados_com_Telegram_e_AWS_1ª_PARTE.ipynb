{
  "nbformat": 4,
  "nbformat_minor": 0,
  "metadata": {
    "colab": {
      "provenance": []
    },
    "kernelspec": {
      "name": "python3",
      "display_name": "Python 3"
    },
    "language_info": {
      "name": "python"
    }
  },
  "cells": [
    {
      "cell_type": "markdown",
      "source": [
        "# Projeto de Análise de Dados com Telegram e AWS\n",
        "\n",
        "<img width='500px' src='https://github.com/alexmdebarros/Pipeline-aws-telegram/blob/main/Profissao%20Analista%20de%20dados%20M42%20Material%20de%20apoio%20arch.png?raw=true'>\n",
        "\n",
        "## Introdução\n",
        "\n",
        "A ideia de transformar dados brutos em insights valiosos é muito fascinante e quando me deparei com a oportunidade de explorar as conversas do Telegram, utilizando o poder da AWS fiquei bem animado. Este projeto foi desafiador, desde a criação do bot até a visualização dos resultados mas ao mesmo tempo gratificante.\n",
        "\n",
        "## A Criação do Bot e a Coleta de Dados\n",
        "\n",
        "O primeiro passo foi criar um bot no Telegram, meu \"agente secreto\", para coletar as mensagens do grupo. Utilizei o BotFather para criar o bot e obter o token de acesso.\n",
        "\n",
        "<img width='500px' src='https://github.com/alexmdebarros/Pipeline-aws-telegram/blob/main/botfather.png?raw=true'>\n",
        "\n",
        "Com o bot criado, adicionei-o ao grupo e o tornei administrador. Em seguida, desabilitei a opção de adicionar o bot a novos grupos, garantindo que ele se concentrasse apenas no meu grupo de teste.\n",
        "\n",
        "<img width='500px' src='https://github.com/alexmdebarros/Pipeline-aws-telegram/blob/main/grupo-telegram.png?raw=true'>\n",
        "\n",
        "Para garantir a coleta , enviei mensagens que alimentaria minha análise.\n",
        "\n",
        "Em seguida vou fazer o consumo desses dados para garantir que está tudo certo:"
      ],
      "metadata": {
        "id": "G9mE2tJADgkU"
      }
    },
    {
      "cell_type": "code",
      "source": [
        "from getpass import getpass\n",
        "\n",
        "token = getpass()"
      ],
      "metadata": {
        "colab": {
          "base_uri": "https://localhost:8080/"
        },
        "id": "AYwiMoNLP-ct",
        "outputId": "2217fa3b-2bf5-4230-bb45-5213e53147dd"
      },
      "execution_count": null,
      "outputs": [
        {
          "name": "stdout",
          "output_type": "stream",
          "text": [
            "··········\n"
          ]
        }
      ]
    },
    {
      "cell_type": "markdown",
      "source": [
        "O método getMe retorna informações sobre o bot."
      ],
      "metadata": {
        "id": "t-nPNzPxQ1xj"
      }
    },
    {
      "cell_type": "code",
      "source": [
        "import json\n",
        "import requests\n",
        "\n",
        "base_url = f'https://api.telegram.org/bot{token}'\n",
        "\n",
        "response = requests.get(url=f'{base_url}/getMe')\n",
        "print(f'{base_url}/getMe')\n",
        "print(json.dumps(json.loads(response.text), indent=2))"
      ],
      "metadata": {
        "colab": {
          "base_uri": "https://localhost:8080/"
        },
        "id": "OJRjOEDqQMuU",
        "outputId": "18908668-a1d5-404b-eef9-2f89d9402e1d"
      },
      "execution_count": null,
      "outputs": [
        {
          "output_type": "stream",
          "name": "stdout",
          "text": [
            "https://api.telegram.org/bot7678151528:AAEPn2zW8oqYMosyy_WuvY7Z8dHs0jdTtgc/getMe\n",
            "{\n",
            "  \"ok\": true,\n",
            "  \"result\": {\n",
            "    \"id\": 7678151528,\n",
            "    \"is_bot\": true,\n",
            "    \"first_name\": \"m43_ebac_bot\",\n",
            "    \"username\": \"m43_ebac_exercicio_bot\",\n",
            "    \"can_join_groups\": false,\n",
            "    \"can_read_all_group_messages\": false,\n",
            "    \"supports_inline_queries\": false,\n",
            "    \"can_connect_to_business\": false,\n",
            "    \"has_main_web_app\": false\n",
            "  }\n",
            "}\n"
          ]
        }
      ]
    },
    {
      "cell_type": "markdown",
      "source": [
        "O método getUpdates retorna as mensagens captadas pelo bot. (nessa parte vai retornar um erro de conflito pois ja vou estar utilizando o webhook)"
      ],
      "metadata": {
        "id": "LhpXI6yqQtJ8"
      }
    },
    {
      "cell_type": "code",
      "source": [
        "response = requests.get(url=f'{base_url}/getUpdates')\n",
        "print(json.dumps(json.loads(response.text), indent=2))"
      ],
      "metadata": {
        "id": "eSxFG-t3QkL0"
      },
      "execution_count": null,
      "outputs": []
    }
  ]
}